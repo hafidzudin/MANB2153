{
 "cells": [
  {
   "cell_type": "markdown",
   "metadata": {},
   "source": [
    "### Classification - Decision Tree"
   ]
  },
  {
   "cell_type": "markdown",
   "metadata": {},
   "source": [
    "from sklearn.datasets import load_iris\n",
    "\n",
    "\n",
    "\n"
   ]
  },
  {
   "cell_type": "markdown",
   "metadata": {},
   "source": [
    "from sklearn import tree"
   ]
  },
  {
   "cell_type": "markdown",
   "metadata": {},
   "source": [
    "from sklearn.metrics import classification_report, accuracy_score"
   ]
  },
  {
   "cell_type": "markdown",
   "metadata": {},
   "source": [
    "from sklearn.model_selection import train_test_split"
   ]
  },
  {
   "cell_type": "markdown",
   "metadata": {},
   "source": [
    "iris = load_iris()"
   ]
  },
  {
   "cell_type": "markdown",
   "metadata": {},
   "source": [
    "X_train, X_test, y_train, y_test = train_test_split(iris.data, iris.target, test_size=0.4, random_state=17)"
   ]
  },
  {
   "cell_type": "markdown",
   "metadata": {},
   "source": [
    "clf = tree.DecisionTreeClassifier(random_state=17)"
   ]
  },
  {
   "cell_type": "markdown",
   "metadata": {},
   "source": [
    "clf = clf.fit(X_train, y_train)"
   ]
  },
  {
   "cell_type": "markdown",
   "metadata": {},
   "source": [
    "y_pred = clf.predict(X_test)"
   ]
  },
  {
   "cell_type": "markdown",
   "metadata": {},
   "source": [
    "print(classification_report(y_test, y_pred, target_names=iris.target_names))"
   ]
  },
  {
   "cell_type": "markdown",
   "metadata": {},
   "source": [
    "print('\\nAccuracy: {0:.4f}'.format(accuracy_score(y_test, y_pred)))"
   ]
  },
  {
   "cell_type": "markdown",
   "metadata": {},
   "source": [
    "### Classification - Naive Bayes"
   ]
  },
  {
   "cell_type": "markdown",
   "metadata": {},
   "source": [
    "from sklearn.naive_bayes import GaussianNB"
   ]
  },
  {
   "cell_type": "markdown",
   "metadata": {},
   "source": [
    "import numpy as np"
   ]
  },
  {
   "cell_type": "markdown",
   "metadata": {},
   "source": [
    "x= np.array([[-3,7],[1,5], [1,2], [-2,0], [2,3], [-4,0], [-1,1], [1,1], [-2,2], [2,7], [-4,1], [-2,7]])"
   ]
  },
  {
   "cell_type": "markdown",
   "metadata": {},
   "source": [
    "Y = np.array([3, 3, 3, 3, 4, 3, 3, 4, 3, 4, 4, 4])"
   ]
  },
  {
   "cell_type": "markdown",
   "metadata": {},
   "source": [
    "model = GaussianNB()"
   ]
  },
  {
   "cell_type": "markdown",
   "metadata": {},
   "source": [
    "model.fit(x, y)"
   ]
  },
  {
   "cell_type": "markdown",
   "metadata": {},
   "source": [
    "predicted= model.predict([[1,2],[3,4]])"
   ]
  },
  {
   "cell_type": "markdown",
   "metadata": {},
   "source": [
    "#### Article 1 - X.Wang, L.Wang, N.Li : 'An Application of Decision Tree Based on ID3', 2012, pp.1-5 "
   ]
  },
  {
   "cell_type": "markdown",
   "metadata": {},
   "source": [
    "In this paper, the authors deals with the application of one decision tree called ID3. It constitutes a decision tree based on information gain and give some useful purchasing behaviour rules.From the witing, it can be seen that potential buyers can be found from the purchase records for individual mining generated rule base for promotional or paid targeted advertising of\n",
    "the merchants."
   ]
  },
  {
   "cell_type": "markdown",
   "metadata": {},
   "source": [
    "#### Article 2 - S.Khan, A.Ahmad : 'Application of Decision Trees Application of Decision Trees of Decision Trees for Portfolio Diversification in Portfolio Diversification in Indian Share Market', pp.1-6"
   ]
  },
  {
   "cell_type": "markdown",
   "metadata": {},
   "source": [
    "In this paper, the author wanted identify different categories of companies on the basis of their annual balance sheets. The authors employed C4.5, a decision tree based machine learning algorithm to first learn and understand the classification rules generated for companies of each industrial sector and then predicting the category of uncategorized companies (companies without much research) within their respective sector. "
   ]
  },
  {
   "cell_type": "markdown",
   "metadata": {},
   "source": [
    "#### Article 3 - S.Kalyanakrishnan, D.Singh, R.Kant : 'On Building Decision Trees from Large-scale Data in Applications of On-line Advertising', 2014, pp.1-10\n"
   ]
  },
  {
   "cell_type": "markdown",
   "metadata": {},
   "source": [
    "In this paper, the author wanted identify estimation task in online advertising. Evaluated on three distinct probability-estimation tasks in on-line advertising, the authors fouund that, “CCDT” shows significant improvements in the accuracy of prediction.\n",
    "\n"
   ]
  },
  {
   "cell_type": "markdown",
   "metadata": {},
   "source": [
    "#### Article 4 - V.Hema, C.Emilin : 'DoS Attack Detection Based on Naive Bayes Classifier', CSE KCG College of Technology, 2015, pp.1-8"
   ]
  },
  {
   "cell_type": "markdown",
   "metadata": {},
   "source": [
    "In this paper, the author wanted identify an effective detection of DOS attacks to protect online services. A traffic classification scheme to improve classification performance when few training data are available is used. The traffic flows are described using the discretized statistical features and traffic flow information is extracted. A traffic classification method is proposed to aggregate the naïve bayes predictions of the traffic flows. The experimental results show that the proposed scheme can efficiently classify packets than existing traffic classification methods and achieved 92.34% accuracy."
   ]
  },
  {
   "cell_type": "markdown",
   "metadata": {},
   "source": [
    "#### Article 5 - K.Kiilu, G.Okeyo, R.Rimiru, K.Ogada : 'Using Naïve Bayes Algorithm in detection of Hate Tweets', Jomo Kenyatta University of Agriculture and Technology, Mar 2018, pp.1-9"
   ]
  },
  {
   "cell_type": "markdown",
   "metadata": {},
   "source": [
    "In this paper, the author wanted identify a reliable tool for detection of hate tweets. This paper develops an approach for detecting and classifying hateful speech that uses content produced by self-identifying hateful communities from Twitter. Results from experiments showed Naive Bayes classifier achieved significantly better performance than existing methods in hate speech detection algorithms with precision, recall, and accuracy values of 58% ,62%,and67.47%,respectively."
   ]
  },
  {
   "cell_type": "markdown",
   "metadata": {},
   "source": [
    "#### Article 6 - S.Kharya, S.Soni : 'Weighted Naive Bayes Classifier: A Predictive Model for Breast Cancer Detection', International Journal of Computer Applications, Jan 2016, pp.1-6"
   ]
  },
  {
   "cell_type": "markdown",
   "metadata": {},
   "source": [
    "In this paper, the author wanted identify the performance criterion of Naive Bayes Classifier with a new weighted approach in classifying breast cancer. The experiments show that a weighted naive bayes approach outperforms naive\n",
    "bayes.  In the proposed framework called Weighted Naive Bayes Classifier (WNBC) that assigns different weights to different attributes according to their predicting capabilities by consulting the domain expert doctors. Domain based weights are used to assign weight of each attribute using expert knowledge. Experiments have been performed on benchmark data set to evaluate the performance of WNBC in terms of accuracy. The result reveals that WNBC is a promising alternative in medical prediction and certainly deserves further attention.\n"
   ]
  },
  {
   "cell_type": "markdown",
   "metadata": {},
   "source": [
    "#### Article 7 - W.Li, P.Yi, Y.Wu, L.Pan, J.Li : 'A New Intrusion Detection System Based on KNN Classification Algorithm in Wireless Sensor Network', Jun 2014, pp.1-9\n"
   ]
  },
  {
   "cell_type": "markdown",
   "metadata": {},
   "source": [
    "In this paper, the author wanted identify a new intrusion detection system based on 𝐾-nearest neighbor classification algorithm in wireless sensor network. This system can separate abnormal nodes from normal nodes by observing their abnormal behaviors, and analyse parameter selection and error rate of the intrusion detection system. The paper elaborates on the design and implementation of the detection system. This system has achieved efficient, rapid intrusion detection by improving the wireless ad hoc on-demand distance vector routing protocol (Ad hoc On-Demand Distance the Vector Routing, AODV). Finally, the test results show that: the system has high detection accuracy and speed, in accordance with the requirement of wireless sensor network intrusion detection."
   ]
  },
  {
   "cell_type": "markdown",
   "metadata": {},
   "source": [
    "#### Article 8 - R.Jodha, G.Sanjay, K.Chowdhary, A.Mishra : 'Text Classification using KNN with different Features Selection Methods', IJRP, Jul 2018, pp.1-10"
   ]
  },
  {
   "cell_type": "markdown",
   "metadata": {},
   "source": [
    "In this paper, the author wanted identify performance of the KNN classifier algorithm. This paper proposed a text classifier using KNN for different feature selection method. From the gained results, it is clear that KNN Classifier works better for less number of features. As number of feature number decrease, the performance of KNN Classifier decreases. 20 Newsgroup dataset collected have been taken to check performance of the KNN classifier algorithm. The dataset is separated into two parts. training set (60%) and test set (40%). The KNN classifier has been implemented against the different number of stemmed and unstemmed features for CHI (Chi-Squared Statistic), IG (Information Gain) and MI (Mutual Information). The Accuracy, Precision, Recall and F1-Score are used to test the system."
   ]
  },
  {
   "cell_type": "markdown",
   "metadata": {},
   "source": [
    "#### Article 9 - S.Alfere, A.Maghari : 'Prediction of Student's Performance Using Modified KNN Classifiers', University of Palestine, Feb 2018, pp.1-8"
   ]
  },
  {
   "cell_type": "markdown",
   "metadata": {},
   "source": [
    "In this paper, the author wanted to predict the student’s performance according to their marks through classification using modified KNN classifiers such as Cosine KNN, Cubic KNN, and Weighted KNN. The Dataset of the students of the 11th Grade of scientific branch at Gaza Strip secondary schools contains 13 parameters, 11 parameters of the subject’s marks, average parameter and Grade parameter. The classifiers should predict the performance (Grade) the student will gain depending on the marks of two subjects. "
   ]
  },
  {
   "cell_type": "markdown",
   "metadata": {},
   "source": [
    "#### Article 10 - Y.Benmahamed, Y.Kemari, M.Teguar, A.Boubakeur : Diagnosis of Power Transformer Oil Using KNN and Naïve Bayes Classifiers, Sep 2018, pp1-4"
   ]
  },
  {
   "cell_type": "markdown",
   "metadata": {},
   "source": [
    "In this paper, the author wanted to diagnose the power transformer oil insulation utilizing dissolved gas analysis (DGA). The diagnosis accuracy remains an important factor. Indeed, to obtain the maximum accuracy rate, different vectors are used as inputs. This paper deals with the diagnosis of power transformer oil using KNN and Naïve Bayes classifiers. Five input vectors\n",
    "and five power transformer faults are considered. The accuracy rate of both classifiers have been estimated using 155 samples extracted from IEC TC 10 and related database. The KNN algorithm provides the highest accuracy rate of 92% when employing Duval triangle reports as input vector."
   ]
  },
  {
   "cell_type": "code",
   "execution_count": null,
   "metadata": {},
   "outputs": [],
   "source": []
  }
 ],
 "metadata": {
  "kernelspec": {
   "display_name": "Python 3",
   "language": "python",
   "name": "python3"
  },
  "language_info": {
   "codemirror_mode": {
    "name": "ipython",
    "version": 3
   },
   "file_extension": ".py",
   "mimetype": "text/x-python",
   "name": "python",
   "nbconvert_exporter": "python",
   "pygments_lexer": "ipython3",
   "version": "3.7.0"
  }
 },
 "nbformat": 4,
 "nbformat_minor": 2
}
