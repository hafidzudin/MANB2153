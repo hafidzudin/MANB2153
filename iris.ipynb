{
  "nbformat": 4,
  "nbformat_minor": 0,
  "metadata": {
    "colab": {
      "name": "iris.ipynb",
      "version": "0.3.2",
      "provenance": [],
      "collapsed_sections": [],
      "include_colab_link": true
    },
    "kernelspec": {
      "name": "python3",
      "display_name": "Python 3"
    }
  },
  "cells": [
    {
      "cell_type": "markdown",
      "metadata": {
        "id": "view-in-github",
        "colab_type": "text"
      },
      "source": [
        "<a href=\"https://colab.research.google.com/github/hafidzudin/MANB2153/blob/master/iris.ipynb\" target=\"_parent\"><img src=\"https://colab.research.google.com/assets/colab-badge.svg\" alt=\"Open In Colab\"/></a>"
      ]
    },
    {
      "metadata": {
        "id": "nVEMBpVcuSpn",
        "colab_type": "code",
        "colab": {
          "base_uri": "https://localhost:8080/",
          "height": 706
        },
        "outputId": "ca129fd6-3599-4c48-8953-9c0b9b1e5baf"
      },
      "cell_type": "code",
      "source": [
        "from sklearn.datasets import load_iris\n",
        "data=load_iris()\n",
        "\n",
        "import keras\n",
        "from keras.models import Sequential\n",
        "from keras.layers import Dense, Dropout, Activation\n",
        "from keras.optimizers import SGD\n",
        "import numpy as np\n",
        "from sklearn.model_selection import train_test_split\n",
        "from keras.utils import to_categorical\n",
        "\n",
        "\n",
        "# Generate dummy data\n",
        "y=to_categorical(data['target'])\n",
        "x = data['data']\n",
        "x_train, x_test, y_train, y_test = train_test_split(x,y,test_size=0.4,random_state=40)\n",
        "\n",
        "model = Sequential()\n",
        "# Dense(64) is a fully-connected layer with 64 hidden units.\n",
        "# in the first layer, you must specify the expected input data shape:\n",
        "# here, 20-dimensional vectors.\n",
        "model.add(Dense(64, activation='relu', input_dim=4))\n",
        "model.add(Dropout(0.5))\n",
        "model.add(Dense(64, activation='relu'))\n",
        "model.add(Dropout(0.5))\n",
        "model.add(Dense(3, activation='softmax'))\n",
        "\n",
        "sgd = SGD(lr=0.01, decay=1e-6, momentum=0.9, nesterov=True)\n",
        "model.compile(loss='categorical_crossentropy',\n",
        "              optimizer=sgd,\n",
        "              metrics=['accuracy'])\n",
        "\n",
        "model.fit(x_train, y_train,\n",
        "          epochs=20,\n",
        "          batch_size=128)\n",
        "score = model.evaluate(x_test, y_test, batch_size=128)"
      ],
      "execution_count": 19,
      "outputs": [
        {
          "output_type": "stream",
          "text": [
            "Epoch 1/20\n",
            "90/90 [==============================] - 0s 2ms/step - loss: 1.7114 - acc: 0.3667\n",
            "Epoch 2/20\n",
            "90/90 [==============================] - 0s 32us/step - loss: 1.2645 - acc: 0.4556\n",
            "Epoch 3/20\n",
            "90/90 [==============================] - 0s 24us/step - loss: 1.3658 - acc: 0.2556\n",
            "Epoch 4/20\n",
            "90/90 [==============================] - 0s 23us/step - loss: 1.3385 - acc: 0.3667\n",
            "Epoch 5/20\n",
            "90/90 [==============================] - 0s 25us/step - loss: 1.1189 - acc: 0.4000\n",
            "Epoch 6/20\n",
            "90/90 [==============================] - 0s 26us/step - loss: 1.0994 - acc: 0.4333\n",
            "Epoch 7/20\n",
            "90/90 [==============================] - 0s 38us/step - loss: 1.1307 - acc: 0.3667\n",
            "Epoch 8/20\n",
            "90/90 [==============================] - 0s 60us/step - loss: 1.1309 - acc: 0.4111\n",
            "Epoch 9/20\n",
            "90/90 [==============================] - 0s 56us/step - loss: 1.0372 - acc: 0.4111\n",
            "Epoch 10/20\n",
            "90/90 [==============================] - 0s 27us/step - loss: 0.9678 - acc: 0.4444\n",
            "Epoch 11/20\n",
            "90/90 [==============================] - 0s 37us/step - loss: 1.0273 - acc: 0.4444\n",
            "Epoch 12/20\n",
            "90/90 [==============================] - 0s 26us/step - loss: 0.9193 - acc: 0.5556\n",
            "Epoch 13/20\n",
            "90/90 [==============================] - 0s 35us/step - loss: 1.0246 - acc: 0.4444\n",
            "Epoch 14/20\n",
            "90/90 [==============================] - 0s 38us/step - loss: 0.9474 - acc: 0.4778\n",
            "Epoch 15/20\n",
            "90/90 [==============================] - 0s 29us/step - loss: 0.9126 - acc: 0.5000\n",
            "Epoch 16/20\n",
            "90/90 [==============================] - 0s 29us/step - loss: 0.9321 - acc: 0.5222\n",
            "Epoch 17/20\n",
            "90/90 [==============================] - 0s 50us/step - loss: 0.9363 - acc: 0.5222\n",
            "Epoch 18/20\n",
            "90/90 [==============================] - 0s 47us/step - loss: 0.8753 - acc: 0.6222\n",
            "Epoch 19/20\n",
            "90/90 [==============================] - 0s 75us/step - loss: 0.8795 - acc: 0.6444\n",
            "Epoch 20/20\n",
            "90/90 [==============================] - 0s 44us/step - loss: 0.8430 - acc: 0.6444\n",
            "60/60 [==============================] - 0s 953us/step\n"
          ],
          "name": "stdout"
        }
      ]
    }
  ]
}