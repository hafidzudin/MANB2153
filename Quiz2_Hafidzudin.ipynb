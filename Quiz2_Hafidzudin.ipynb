{
  "nbformat": 4,
  "nbformat_minor": 0,
  "metadata": {
    "colab": {
      "name": "Quiz2-Hafidzudin.ipynb",
      "version": "0.3.2",
      "provenance": [],
      "collapsed_sections": [],
      "include_colab_link": true
    },
    "kernelspec": {
      "name": "python3",
      "display_name": "Python 3"
    }
  },
  "cells": [
    {
      "cell_type": "markdown",
      "metadata": {
        "id": "view-in-github",
        "colab_type": "text"
      },
      "source": [
        "<a href=\"https://colab.research.google.com/github/hafidzudin/MANB2153/blob/master/Quiz2_Hafidzudin.ipynb\" target=\"_parent\"><img src=\"https://colab.research.google.com/assets/colab-badge.svg\" alt=\"Open In Colab\"/></a>"
      ]
    },
    {
      "metadata": {
        "id": "Q9W_5_6Hx3BN",
        "colab_type": "text"
      },
      "cell_type": "markdown",
      "source": [
        "2. Classification problem"
      ]
    },
    {
      "metadata": {
        "id": "c0hxhEZPkYYI",
        "colab_type": "code",
        "colab": {}
      },
      "cell_type": "code",
      "source": [
        "import keras\n",
        "from keras.models import Sequential\n",
        "from keras.layers import Dense, Dropout, Activation\n",
        "from keras.optimizers import SGD\n",
        "import pandas as pd\n",
        "import numpy as np\n",
        "from sklearn.model_selection import train_test_split\n",
        "from keras.utils import to_categorical"
      ],
      "execution_count": 0,
      "outputs": []
    },
    {
      "metadata": {
        "id": "UlQYZI6cks5X",
        "colab_type": "code",
        "colab": {}
      },
      "cell_type": "code",
      "source": [
        "df = pd.read_csv('heart.csv')"
      ],
      "execution_count": 0,
      "outputs": []
    },
    {
      "metadata": {
        "id": "7FUngT0jkvoJ",
        "colab_type": "code",
        "colab": {}
      },
      "cell_type": "code",
      "source": [
        "x = df.drop(['target'], axis=1)\n",
        "y = to_categorical(df.target)"
      ],
      "execution_count": 0,
      "outputs": []
    },
    {
      "metadata": {
        "id": "F3pXJhuklXqz",
        "colab_type": "code",
        "colab": {}
      },
      "cell_type": "code",
      "source": [
        "x_train, x_test, y_train, y_test = train_test_split(x,y,test_size=0.3,random_state=42)"
      ],
      "execution_count": 0,
      "outputs": []
    },
    {
      "metadata": {
        "id": "AftLKvzSl5Uo",
        "colab_type": "code",
        "colab": {}
      },
      "cell_type": "code",
      "source": [
        "model=Sequential()\n",
        "model.add(Dense(64, activation='relu', input_dim=13))\n",
        "model.add(Dropout(0.5))\n",
        "model.add(Dense(32, activation='relu'))\n",
        "model.add(Dropout(0.5))\n",
        "model.add(Dense(2, activation='softmax'))\n",
        "sgd = SGD(lr=0.01, decay=1e-6, momentum=0.9, nesterov=True)"
      ],
      "execution_count": 0,
      "outputs": []
    },
    {
      "metadata": {
        "id": "wQZJkANtm0hc",
        "colab_type": "code",
        "colab": {
          "base_uri": "https://localhost:8080/",
          "height": 706
        },
        "outputId": "846dcd7e-2c69-4220-8a2c-2059e3ca120d"
      },
      "cell_type": "code",
      "source": [
        "model.compile(loss='categorical_crossentropy', optimizer=sgd, metrics=['accuracy'])\n",
        "model.fit(x_train, y_train, epochs=20, batch_size=50)\n",
        "score = model.evaluate(x_test, y_test, batch_size=50)"
      ],
      "execution_count": 112,
      "outputs": [
        {
          "output_type": "stream",
          "text": [
            "Epoch 1/20\n",
            "212/212 [==============================] - 2s 11ms/step - loss: 6.6355 - acc: 0.5613\n",
            "Epoch 2/20\n",
            "212/212 [==============================] - 0s 79us/step - loss: 7.4263 - acc: 0.5330\n",
            "Epoch 3/20\n",
            "212/212 [==============================] - 0s 61us/step - loss: 8.5934 - acc: 0.4623\n",
            "Epoch 4/20\n",
            "212/212 [==============================] - 0s 73us/step - loss: 9.1217 - acc: 0.4340\n",
            "Epoch 5/20\n",
            "212/212 [==============================] - 0s 64us/step - loss: 8.3632 - acc: 0.4811\n",
            "Epoch 6/20\n",
            "212/212 [==============================] - 0s 61us/step - loss: 7.9582 - acc: 0.5047\n",
            "Epoch 7/20\n",
            "212/212 [==============================] - 0s 65us/step - loss: 8.6673 - acc: 0.4623\n",
            "Epoch 8/20\n",
            "212/212 [==============================] - 0s 52us/step - loss: 8.8251 - acc: 0.4481\n",
            "Epoch 9/20\n",
            "212/212 [==============================] - 0s 64us/step - loss: 9.1995 - acc: 0.4292\n",
            "Epoch 10/20\n",
            "212/212 [==============================] - 0s 60us/step - loss: 8.5912 - acc: 0.4670\n",
            "Epoch 11/20\n",
            "212/212 [==============================] - 0s 72us/step - loss: 8.2871 - acc: 0.4858\n",
            "Epoch 12/20\n",
            "212/212 [==============================] - 0s 72us/step - loss: 7.6029 - acc: 0.5283\n",
            "Epoch 13/20\n",
            "212/212 [==============================] - 0s 63us/step - loss: 8.5945 - acc: 0.4670\n",
            "Epoch 14/20\n",
            "212/212 [==============================] - 0s 74us/step - loss: 9.1995 - acc: 0.4292\n",
            "Epoch 15/20\n",
            "212/212 [==============================] - 0s 71us/step - loss: 8.8193 - acc: 0.4528\n",
            "Epoch 16/20\n",
            "212/212 [==============================] - 0s 73us/step - loss: 8.9746 - acc: 0.4434\n",
            "Epoch 17/20\n",
            "212/212 [==============================] - 0s 73us/step - loss: 7.9070 - acc: 0.5094\n",
            "Epoch 18/20\n",
            "212/212 [==============================] - 0s 67us/step - loss: 9.3539 - acc: 0.4198\n",
            "Epoch 19/20\n",
            "212/212 [==============================] - 0s 70us/step - loss: 8.3632 - acc: 0.4811\n",
            "Epoch 20/20\n",
            "212/212 [==============================] - 0s 75us/step - loss: 8.8193 - acc: 0.4528\n",
            "91/91 [==============================] - 1s 11ms/step\n"
          ],
          "name": "stdout"
        }
      ]
    },
    {
      "metadata": {
        "id": "b9PTTUHurlRM",
        "colab_type": "text"
      },
      "cell_type": "markdown",
      "source": [
        "4. Underfitting is a model that can neither model the training data nor generalize to new data. Overfitting is a model that models the training data too well that it can longer predict new data"
      ]
    },
    {
      "metadata": {
        "id": "iLog3femr9fj",
        "colab_type": "text"
      },
      "cell_type": "markdown",
      "source": [
        "5. Splitting the data into test and training data"
      ]
    },
    {
      "metadata": {
        "id": "r7_9qh_rrSTr",
        "colab_type": "code",
        "colab": {}
      },
      "cell_type": "code",
      "source": [
        ""
      ],
      "execution_count": 0,
      "outputs": []
    }
  ]
}