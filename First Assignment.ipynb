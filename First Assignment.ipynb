{
 "cells": [
  {
   "cell_type": "markdown",
   "metadata": {},
   "source": [
    "#### Mohamad Hafidzudin\n",
    "\n",
    "#### List a few definition of Machine Learning (with reference if possible), and examples of application. Write in paragraphs at Jupyter Notebook.\n",
    "Upload your Jupyter Notebook file at your github"
   ]
  },
  {
   "cell_type": "markdown",
   "metadata": {},
   "source": [
    "Definition of Machine Learning (3):\n",
    "\n",
    "    1. Machine learning is a paradigm that may refer to learning from past experience (which in this case is previous data) to improve future performance. The sole focus of this field is automatic learning methods. Learning refers to modification or improvement of algorithm based on past “experiences” automatically without any external assistance from human.[1]\n",
    "\n",
    "    2. Machine learning studies computer algorithms for learning to do stuff. We might, for instance, be interested in learning to complete a task, or to make accurate predictions, or to behave intelligently. The learning that is being done is always based on some sort of observations or data, such as examples (the most common case in this course), direct experience, or instruction. So in general, machine learning is about learning to do better in the future based on what was experienced in the past. [2]\n",
    "    \n",
    "    3. Machine  learning,  by  its  definition,  is  a  field  of  computer science  that  evolved  from  studying  pattern recognition  and computational learning theory in artificial intelligence. It is the learning  and building  of  algorithms  that can  learn  from  and make  predictions  on  data  sets. [3]\n",
    "\n",
    "\n",
    "   \n",
    "Example of ML Applications (5):\n",
    "\n",
    "    1. Medical diagnosis: diagnose a patient as a sufferer or non-sufferer of some disease [2]\n",
    "    2. Spam filtering: identify email messages as spam or non-spam [2]\n",
    "    3. Optical character recognition: categorize images of handwritten characters by the letters represented [2]\n",
    "    4. Fraud detection: identify credit card transactions (for instance) which may be fraudulent in nature [2]\n",
    "    5. Customer segmentation: predict, for instance, which customers will respond to a particular promotion [2]\n"
   ]
  },
  {
   "cell_type": "markdown",
   "metadata": {},
   "source": [
    "### Reference"
   ]
  },
  {
   "cell_type": "markdown",
   "metadata": {},
   "source": [
    "[1] Kajaree Das, Rabi Narayan Behera: 'International Journal of Innovative Research in Computer and Communication Engineering', ijircce, February 2017, pp1301\n",
    "\n",
    "[2] Rob Schapire: 'COS 511: Theoretical Machine Learning', princeton, February 2008, pp1\n",
    "\n",
    "[3] Annina Simon, Mahima Singh Deo, S.Venkatesan, D.R.Ramesh Babu: 'An Overview of Machine Learning and its Applications', dayananda sagar college of engineering, 2015, 22"
   ]
  },
  {
   "cell_type": "code",
   "execution_count": null,
   "metadata": {},
   "outputs": [],
   "source": []
  }
 ],
 "metadata": {
  "kernelspec": {
   "display_name": "Python 3",
   "language": "python",
   "name": "python3"
  },
  "language_info": {
   "codemirror_mode": {
    "name": "ipython",
    "version": 3
   },
   "file_extension": ".py",
   "mimetype": "text/x-python",
   "name": "python",
   "nbconvert_exporter": "python",
   "pygments_lexer": "ipython3",
   "version": "3.7.0"
  }
 },
 "nbformat": 4,
 "nbformat_minor": 2
}
