{
 "cells": [
  {
   "cell_type": "markdown",
   "metadata": {},
   "source": [
    "#### Mohamad Hafidzudin\n",
    "\n",
    "#### List a few definition of Machine Learning (with reference if possible), and examples of application. Write in paragraphs at Jupyter Notebook.\n",
    "Upload your Jupyter Notebook file at your github"
   ]
  },
  {
   "cell_type": "markdown",
   "metadata": {},
   "source": [
    "Definition of Machine Learning (3):\n",
    "\n",
    "    1. Machine learning is a paradigm that may refer to learning from past experience (which in this case is previous data) to improve future performance. The sole focus of this field is automatic learning methods. Learning refers to modification or improvement of algorithm based on past “experiences” automatically without any external assistance from human.[1]\n",
    "\n",
    "    2. Machine learning studies computer algorithms for learning to do stuff. We might, for instance, be interested in learning to complete a task, or to make accurate predictions, or to behave intelligently. The learning that is being done is always based on some sort of observations or data, such as examples (the most common case in this course), direct experience, or instruction. So in general, machine learning is about learning to do better in the future based on what was experienced in the past. [2]\n",
    "    \n",
    "    3. Machine  learning,  by  its  definition,  is  a  field  of  computer science  that  evolved  from  studying  pattern recognition  and computational learning theory in artificial intelligence. It is the learning  and building  of  algorithms  that can  learn  from  and make  predictions  on  data  sets. [3]\n",
    "\n",
    "\n",
    "   \n",
    "Example of ML Applications (5):\n",
    "\n",
    "    1. Facebook - News Feed ranking algorithms help people see the stories that matter most to them first, every time they visit Facebook.  General models are trained to determine various user and environmental factors that should ultimately determine the rank order of content. Later, when a person visits Facebook, the model is used to generate a personalized set of the best posts, images, and other content to display from thousands of candidates, as well as the best ordering of the chosen content. [4]\n",
    "    \n",
    "    2. Facebook - Ads leverages ML to determine which ads to display to a given user. Ads models are trained to learn how user traits, user context, previous interactions, and advertisement attributes can be most predictive of the likelihood of clicking on an ad, visiting a website, and/or purchasing a product. Later, when a user visits Facebook, inputs are run through a trained model to immediately determine which ads to display. [4]\n",
    "    \n",
    "    3. Lumiata - Employs machine learning to generate multi-dimensional probability distribution graph containing tens of thousands of nodes (e.g., symptoms, diseases and patient data points) and their weighted connections strengths in real-time. Results can help identify patients who need urgent hospitalization, follow-up visits, medication plan, etc. [5]\n",
    "\n",
    "    4. Enlitic - Employs deep learning to assist doctors in the diagnosis and prognosis of diseases. Compares patient data (radiology, pathology, genomic, EHR, etc.) with similar data from millions of other patients to build its decision case. [5]\n",
    "    \n",
    "    5. PhysIQ - Calculates summary indices based on vital health inputs signs and acts as an early warning detection system. Builds a personalized machine learning model for each patient that focuses on comparing patient data (heart rate, respiration rate, oximetry, and blood pressure, etc.) with her own baseline indicators and not with the population mean. [5]\n"
   ]
  },
  {
   "cell_type": "markdown",
   "metadata": {},
   "source": [
    "### Reference"
   ]
  },
  {
   "cell_type": "markdown",
   "metadata": {},
   "source": [
    "[1] Kajaree Das, Rabi Narayan Behera: 'International Journal of Innovative Research in Computer and Communication Engineering', ijircce, February 2017, pp1301\n",
    "\n",
    "[2] Rob Schapire: 'COS 511: Theoretical Machine Learning', princeton, February 2008, pp1\n",
    "\n",
    "[3] Annina Simon, Mahima Singh Deo, S.Venkatesan, D.R.Ramesh Babu: 'An Overview of Machine Learning and its Applications', dayananda sagar college of engineering, 2015, pp22\n",
    "\n",
    "[4] K.Hazelwood, S.Bird, D.Brooks, S.Chintala, U.Diril, D.Dzhulgakov, M.Fawzy, B.Jia, Y.Jia, A.Kalro, J.Law, K. Lee, J.Lu, P.Noordhuis, M.Smelyanskiy, L.Xiong, X.Wang: 'Applied Machine Learning at Facebook:A Datacenter Infrastructure Perspective', Facebook, Inc., pp2\n",
    "\n",
    "[5] Michael Walker: 'Machine Learning Applications in the Real World', rosebt, pp1-44\n"
   ]
  },
  {
   "cell_type": "code",
   "execution_count": null,
   "metadata": {},
   "outputs": [],
   "source": []
  }
 ],
 "metadata": {
  "kernelspec": {
   "display_name": "Python 3",
   "language": "python",
   "name": "python3"
  },
  "language_info": {
   "codemirror_mode": {
    "name": "ipython",
    "version": 3
   },
   "file_extension": ".py",
   "mimetype": "text/x-python",
   "name": "python",
   "nbconvert_exporter": "python",
   "pygments_lexer": "ipython3",
   "version": "3.7.0"
  }
 },
 "nbformat": 4,
 "nbformat_minor": 2
}
